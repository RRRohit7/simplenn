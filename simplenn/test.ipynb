{
 "cells": [
  {
   "cell_type": "code",
   "execution_count": 1,
   "id": "7c89ca68",
   "metadata": {},
   "outputs": [],
   "source": [
    "class Data:\n",
    "    def __init__(self, value):\n",
    "        self.value = value\n",
    "    def __add__(self, other):\n",
    "        if isinstance(other, (int, float)):\n",
    "            return Data(self.value + other)\n",
    "        return Data(self.value + other.value)\n",
    "    def __radd__(self, other):\n",
    "        return self + other\n",
    "    def __mul__(self, other):\n",
    "        if isinstance(other, (int, float)):\n",
    "            return Data(self.value * other)\n",
    "        return Data(self.value * other.value)\n",
    "    def __rmul__(self, other):\n",
    "        return self * other    \n",
    "    def __truediv__(self, other):\n",
    "        if isinstance(other, (int, float)):\n",
    "            return Data(self.value / other)\n",
    "        return Data(self.value / other.value)\n",
    "    def __rtruediv__(self, other):\n",
    "        return Data(other / self.value)\n",
    "    def __mod__(self, other):\n",
    "        if isinstance(other, (int, float)):\n",
    "            return Data(self.value % other)\n",
    "        return Data(self.value % other.value)\n",
    "    def __rmod__(self, other):\n",
    "        return Data(other % self.value)\n",
    "    def __str__(self):\n",
    "        return f\"Data: {self.value}\""
   ]
  },
  {
   "cell_type": "code",
   "execution_count": 2,
   "id": "8511344d",
   "metadata": {},
   "outputs": [
    {
     "name": "stdout",
     "output_type": "stream",
     "text": [
      "Data: 8.0\n"
     ]
    }
   ],
   "source": [
    "print(2 * Data(3) + 4 / Data(2) % Data(5))"
   ]
  },
  {
   "cell_type": "code",
   "execution_count": null,
   "id": "538d4283",
   "metadata": {},
   "outputs": [],
   "source": []
  }
 ],
 "metadata": {
  "kernelspec": {
   "display_name": ".venv",
   "language": "python",
   "name": "python3"
  },
  "language_info": {
   "codemirror_mode": {
    "name": "ipython",
    "version": 3
   },
   "file_extension": ".py",
   "mimetype": "text/x-python",
   "name": "python",
   "nbconvert_exporter": "python",
   "pygments_lexer": "ipython3",
   "version": "3.10.12"
  }
 },
 "nbformat": 4,
 "nbformat_minor": 5
}
